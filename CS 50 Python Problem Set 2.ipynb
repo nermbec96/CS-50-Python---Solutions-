{
 "cells": [
  {
   "cell_type": "markdown",
   "id": "9507c646",
   "metadata": {},
   "source": [
    "## Camel Case"
   ]
  },
  {
   "cell_type": "code",
   "execution_count": 1,
   "id": "6a28cccf",
   "metadata": {},
   "outputs": [
    {
     "name": "stdout",
     "output_type": "stream",
     "text": [
      "camelCase:happyNewYear\n",
      "snake_case:happy_new_year"
     ]
    }
   ],
   "source": [
    "#Camil Case task required to put a '_' afront a caplital letfer and return input in lower cases.\n",
    "\n",
    "s = input('camelCase:')\n",
    "\n",
    "\n",
    "print('snake_case:',end ='')\n",
    "\n",
    "for c in s:\n",
    "    if c.isupper():\n",
    "        print('_' + c.lower(),end='')\n",
    "    else:\n",
    "        print(c,end='')"
   ]
  },
  {
   "cell_type": "markdown",
   "id": "ef5d01de",
   "metadata": {},
   "source": [
    "## Just setting up my twttr"
   ]
  },
  {
   "cell_type": "code",
   "execution_count": 2,
   "id": "2b76efbd",
   "metadata": {},
   "outputs": [
    {
     "name": "stdout",
     "output_type": "stream",
     "text": [
      "Input:Twitter\n",
      "Output:Twttr\n"
     ]
    }
   ],
   "source": [
    "#Just setting up my twttr task require to remove 'a','e','i','o','u' from input and to return it in output.\n",
    "\n",
    "s = input('Input:')\n",
    "\n",
    "print('Output:',end='')\n",
    "\n",
    "for c in s:\n",
    "    if not c in['a','e','i','o','u']:\n",
    "        print(c,end='')\n",
    "print()"
   ]
  },
  {
   "cell_type": "markdown",
   "id": "15c85466",
   "metadata": {},
   "source": [
    "## Vanity Plates"
   ]
  },
  {
   "cell_type": "code",
   "execution_count": 19,
   "id": "cd067b2d",
   "metadata": {},
   "outputs": [
    {
     "name": "stdout",
     "output_type": "stream",
     "text": [
      "Plate:BRAA67\n",
      "Valid\n"
     ]
    }
   ],
   "source": [
    "#Vanity Plates task require to write a program witch can recogranze invalid palte.\n",
    "#If palate have less then 2 or more then 6 characters or it have number in middle of plate of first number is 0 then palte is Invalid.\n",
    "#Otherwise plate is valid\n",
    "\n",
    "def main():\n",
    "    plate = input('Plate:')\n",
    "    if is_valid(plate):\n",
    "        print('Valid')\n",
    "    else:\n",
    "        print('Invalid')\n",
    "        \n",
    "def is_valid(c):\n",
    "    if len(c) < 2 or len(c) > 6:\n",
    "        return False\n",
    "    if c[0].isalpha() == False or  c[1].isalpha() == False:\n",
    "        return False\n",
    "    \n",
    "    i = 0\n",
    "    while i < len(c):\n",
    "        if c[i].isalpha() == False:\n",
    "            if c[i] == '0':\n",
    "                return False\n",
    "            else:\n",
    "                break\n",
    "        i += 1\n",
    "        \n",
    "    for s in c:\n",
    "        if s in ['.',' ','!','?']:\n",
    "            return False\n",
    "        \n",
    "    return True\n",
    "        \n",
    "    \n",
    "    \n",
    "main()"
   ]
  },
  {
   "cell_type": "markdown",
   "id": "8bd74fb5",
   "metadata": {},
   "source": [
    "## Coke Machine"
   ]
  },
  {
   "cell_type": "code",
   "execution_count": 9,
   "id": "a1f5e919",
   "metadata": {},
   "outputs": [
    {
     "name": "stdout",
     "output_type": "stream",
     "text": [
      "Amount_Due 50\n",
      "Insurt coin: 25\n",
      "25\n",
      "Amount_Due 25\n",
      "Insurt coin: 10\n",
      "15\n",
      "Amount_Due 15\n",
      "Insurt coin: 10\n",
      "5\n",
      "Amount_Due 5\n",
      "Insurt coin: 5\n",
      "0\n",
      "Change Owed: 0\n"
     ]
    }
   ],
   "source": [
    "#Coke Machine task require to make a program witch can work like real soda machine so it give us current amount of money we owe untill we get enight money.\n",
    "#Also Coke Machine just can take 5,10,25 coins.\n",
    "\n",
    "amount_due = 50\n",
    "\n",
    "while amount_due > 0:\n",
    "    \n",
    "    print('Amount_Due',amount_due)\n",
    "    coin = int(input('Insurt coin: '))\n",
    "    \n",
    "    if coin in [5,10,25]:\n",
    "        \n",
    "        amount_due -=coin\n",
    "        print(amount_due)\n",
    "        \n",
    "change_owed = abs(amount_due)\n",
    "\n",
    "print('Change Owed:',change_owed)   "
   ]
  },
  {
   "cell_type": "markdown",
   "id": "f520a8a8",
   "metadata": {},
   "source": [
    "## Nutrition Facts"
   ]
  },
  {
   "cell_type": "code",
   "execution_count": 18,
   "id": "879e89c7",
   "metadata": {},
   "outputs": [
    {
     "name": "stdout",
     "output_type": "stream",
     "text": [
      "Ithem:     BANana\n",
      "Carolies: 110\n"
     ]
    }
   ],
   "source": [
    "# Nutrition Facts task require to make a program witch can return us how much calories different fruit have.\n",
    "\n",
    "fruits ={\n",
    "    'apple':130,\n",
    "    'avocado':50,\n",
    "    'banana':110,\n",
    "    'cantaloupe':50,\n",
    "    'grapefruit':60,\n",
    "    'grapes':90,\n",
    "    'kiwifruit':90,\n",
    "    'lemon':15,\n",
    "    'lime':20,\n",
    "    'nectarine':60,\n",
    "    'orange':80,\n",
    "    'peach':60,\n",
    "    'pear':100,\n",
    "    'pineapple':50,\n",
    "    'strawberries':50,\n",
    "    'watermelon':80}\n",
    "\n",
    "fruit_requested = input('Ithem:')\n",
    "\n",
    "for key in fruits:\n",
    "    if key == fruit_requested.lower().strip():\n",
    "        print('Carolies:',fruits[key])\n"
   ]
  }
 ],
 "metadata": {
  "kernelspec": {
   "display_name": "Python 3 (ipykernel)",
   "language": "python",
   "name": "python3"
  },
  "language_info": {
   "codemirror_mode": {
    "name": "ipython",
    "version": 3
   },
   "file_extension": ".py",
   "mimetype": "text/x-python",
   "name": "python",
   "nbconvert_exporter": "python",
   "pygments_lexer": "ipython3",
   "version": "3.9.13"
  }
 },
 "nbformat": 4,
 "nbformat_minor": 5
}
