{
 "cells": [
  {
   "cell_type": "markdown",
   "id": "3d4751d9",
   "metadata": {},
   "source": [
    "## Deep Thought"
   ]
  },
  {
   "cell_type": "code",
   "execution_count": 9,
   "id": "9e411956",
   "metadata": {},
   "outputs": [
    {
     "name": "stdout",
     "output_type": "stream",
     "text": [
      "What is the Answer to the Great Question of life, the Universe, and Everything? foRty TwO\n",
      "Yes\n"
     ]
    }
   ],
   "source": [
    "#Deep Thougth task require if answer on 'What is the Answer to the Great Question of life, the Universe, and Everything?' is \n",
    "#42, 'forty-two','forty two', output is Yes, otherwise output is No. \n",
    "\n",
    "s = input('What is the Answer to the Great Question of life, the Universe, and Everything? ')\n",
    "\n",
    "if s == '42' :\n",
    "    print('Yes')\n",
    "elif s.lower().strip() == 'forty-two':\n",
    "    print('Yes')\n",
    "elif s.lower().strip() == 'forty two':\n",
    "    print('Yes')\n",
    "else:\n",
    "    print('No')"
   ]
  },
  {
   "cell_type": "markdown",
   "id": "810e5a2c",
   "metadata": {},
   "source": [
    "## Home Federal Saving Bank"
   ]
  },
  {
   "cell_type": "code",
   "execution_count": 10,
   "id": "f5f750b7",
   "metadata": {},
   "outputs": [
    {
     "name": "stdout",
     "output_type": "stream",
     "text": [
      "Greeting:      Hi,Jimmy!\n",
      "$20\n"
     ]
    }
   ],
   "source": [
    "#Home Federal Saving Bank taks require to if input is hello output is $0 and if input starts with h output is 20$,\n",
    "#otherwise output is $100\n",
    "\n",
    "Input = input('Greeting:')\n",
    "\n",
    "Input_new = Input.lower().strip()\n",
    "\n",
    "if 'hello' in Input_new:\n",
    "    print('$0')\n",
    "    \n",
    "elif 'h' == Input_new[0]:\n",
    "    print('$20')\n",
    "\n",
    "else:\n",
    "    print('$100')"
   ]
  },
  {
   "cell_type": "markdown",
   "id": "c5cd7c51",
   "metadata": {},
   "source": [
    "## File Extensions"
   ]
  },
  {
   "cell_type": "code",
   "execution_count": 12,
   "id": "a5b8066b",
   "metadata": {},
   "outputs": [
    {
     "name": "stdout",
     "output_type": "stream",
     "text": [
      "File name: cat.zip\n",
      "application/zip\n"
     ]
    }
   ],
   "source": [
    "#File Extensions task require to repalce output with right file.\n",
    "\n",
    "Input = input('File name: ')\n",
    "\n",
    "Input_new = Input.lower().strip()\n",
    "\n",
    "if '.gif' in Input_new:\n",
    "        print('image/gif')\n",
    "elif '.png' in Input_new:\n",
    "    print('impage/png')\n",
    "elif '.jgp' in Input_new:\n",
    "    print('impage/jpeg')\n",
    "elif '.jpeg' in Input_new:\n",
    "    print('impage/jpeg')\n",
    "elif '.pdf' in Input_new:\n",
    "    print('application/pdf')\n",
    "elif '.zip' in Input_new:\n",
    "    print('application/zip')\n",
    "elif '.txt' in Input_new:\n",
    "    print('text/plain')\n",
    "else:\n",
    "    print('application/octet-stream')\n",
    "\n"
   ]
  },
  {
   "cell_type": "markdown",
   "id": "caf965dd",
   "metadata": {},
   "source": [
    "## Math Interpreter"
   ]
  },
  {
   "cell_type": "code",
   "execution_count": 19,
   "id": "192945ac",
   "metadata": {},
   "outputs": [
    {
     "name": "stdout",
     "output_type": "stream",
     "text": [
      "Expression: 42535246 / 33\n",
      "1288946.8\n"
     ]
    }
   ],
   "source": [
    "#Math Interpreter taks require to writed a code so program can do simple math operations.\n",
    "\n",
    "Input = input('Expression: ')\n",
    "\n",
    "x,y,z = Input.split(' ')\n",
    "\n",
    "X = float(x)\n",
    "Z = float(z)\n",
    "\n",
    "if y =='+':\n",
    "    result = X + Z\n",
    "if y =='-':\n",
    "    result = X - Z\n",
    "if y =='*':\n",
    "    result = X*Z\n",
    "if y =='/':\n",
    "    result = X/Z\n",
    "print(round(result, 1))"
   ]
  },
  {
   "cell_type": "markdown",
   "id": "6ad65e1e",
   "metadata": {},
   "source": [
    "## Meal Time"
   ]
  },
  {
   "cell_type": "code",
   "execution_count": 37,
   "id": "48574b13",
   "metadata": {},
   "outputs": [
    {
     "name": "stdout",
     "output_type": "stream",
     "text": [
      "What time is it?18:44\n",
      "Dinner time \n"
     ]
    }
   ],
   "source": [
    "#Meal Time taks require to write a program to let us know if is time for meal.\n",
    "\n",
    "def main():\n",
    "    answer = input('What time is it?')\n",
    "\n",
    "    time = convert(answer)\n",
    "    \n",
    "    if time >= 7 and time <= 8:\n",
    "        print('Breakfast time')\n",
    "    if time >=12 and time <= 13:\n",
    "        print('Lunch time')\n",
    "    if time >=18 and time <=19:\n",
    "        print('Dinner time ')\n",
    "        \n",
    "def convert(time):\n",
    "    hours,mins = time.split(':')\n",
    "    new_mins = float(mins)/60\n",
    "    return float(hours) + new_mins\n",
    "    \n",
    "    \n",
    "if __name__ == '__main__':\n",
    "    main()\n",
    "\n"
   ]
  }
 ],
 "metadata": {
  "kernelspec": {
   "display_name": "Python 3 (ipykernel)",
   "language": "python",
   "name": "python3"
  },
  "language_info": {
   "codemirror_mode": {
    "name": "ipython",
    "version": 3
   },
   "file_extension": ".py",
   "mimetype": "text/x-python",
   "name": "python",
   "nbconvert_exporter": "python",
   "pygments_lexer": "ipython3",
   "version": "3.9.13"
  }
 },
 "nbformat": 4,
 "nbformat_minor": 5
}
