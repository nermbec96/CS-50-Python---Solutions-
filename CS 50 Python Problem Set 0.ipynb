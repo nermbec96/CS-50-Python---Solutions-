{
 "cells": [
  {
   "cell_type": "markdown",
   "id": "8beb1c50",
   "metadata": {},
   "source": [
    "## Indoor Voice "
   ]
  },
  {
   "cell_type": "code",
   "execution_count": 28,
   "id": "f6cec6f5",
   "metadata": {},
   "outputs": [
    {
     "name": "stdout",
     "output_type": "stream",
     "text": [
      "Input: HELLO WORLD\n",
      "hello world\n"
     ]
    }
   ],
   "source": [
    "# Indoor Voice task require to input we get return in lower cases.\n",
    "\n",
    "s = input('Input: ').lower()\n",
    "print(s)"
   ]
  },
  {
   "cell_type": "markdown",
   "id": "fbabcd05",
   "metadata": {},
   "source": [
    "## Playback Speed"
   ]
  },
  {
   "cell_type": "code",
   "execution_count": 25,
   "id": "85775b4a",
   "metadata": {},
   "outputs": [
    {
     "name": "stdout",
     "output_type": "stream",
     "text": [
      "Input: hope you have good day\n",
      "hope...you...have...good...day\n"
     ]
    }
   ],
   "source": [
    "#Playback speed task require to replace speace between words with '...'  \n",
    "\n",
    "s = input('Input: ')\n",
    "\n",
    "c = s.replace(' ','...')\n",
    "\n",
    "print(c)"
   ]
  },
  {
   "cell_type": "markdown",
   "id": "13bbeb14",
   "metadata": {},
   "source": [
    "## Making Faces "
   ]
  },
  {
   "cell_type": "code",
   "execution_count": 9,
   "id": "db71fd07",
   "metadata": {},
   "outputs": [
    {
     "name": "stdout",
     "output_type": "stream",
     "text": [
      "Input: Hello :) ,bye :(\n",
      "Hello 🙂 ,bye ☹️\n"
     ]
    }
   ],
   "source": [
    "#Making face taks require to replace ':)' and ':(' with appropriate samiles \n",
    " \n",
    "def main():\n",
    "    s = input('Input: ')\n",
    "    c = convert(s)\n",
    "    print(c)\n",
    "def convert(s):\n",
    "    s1 = s.replace(':)','🙂')\n",
    "    s2 = s1.replace(':(','☹️')\n",
    "    return s2\n",
    "\n",
    "main()"
   ]
  },
  {
   "cell_type": "markdown",
   "id": "a30763b9",
   "metadata": {},
   "source": [
    "## Einstein"
   ]
  },
  {
   "cell_type": "code",
   "execution_count": 27,
   "id": "f102f459",
   "metadata": {},
   "outputs": [
    {
     "name": "stdout",
     "output_type": "stream",
     "text": [
      "m:24\n",
      "E: 2160000000000000000\n"
     ]
    }
   ],
   "source": [
    "#Einstein task require to use Einstein formula for energy E = mc2 and when we get a mass we calcualte energy\n",
    "\n",
    "m = int(input('m:'))\n",
    "c = 300000000\n",
    "E = m * (c ** 2)\n",
    "print('E:',E)"
   ]
  },
  {
   "cell_type": "markdown",
   "id": "9559814b",
   "metadata": {},
   "source": [
    "## Tip Calculator "
   ]
  },
  {
   "cell_type": "code",
   "execution_count": 24,
   "id": "1c3d03e6",
   "metadata": {},
   "outputs": [
    {
     "name": "stdout",
     "output_type": "stream",
     "text": [
      "How much is meal? 75$\n",
      "What percentage would you like to tip? 21%\n",
      "Leave $15.75\n"
     ]
    }
   ],
   "source": [
    "#Tip Calculator taks require to writed a code and define new to funcitons so we can calcualted how much money we will left for tip.\n",
    "\n",
    "def main():\n",
    "    dollars = dollars_to_float(input('How much is meal? '))\n",
    "    percent = percent_to_float(input('What percentage would you like to tip? '))\n",
    "    tip = dollars * percent\n",
    "    print(f'Leave ${tip:.2f}')\n",
    "    \n",
    "def dollars_to_float(d):\n",
    "    d_without_dollar_sign = d.replace('$','')\n",
    "    return float(d_without_dollar_sign)\n",
    "    \n",
    "def percent_to_float(P):\n",
    "    P_without_percent_sign = P.replace('%','')\n",
    "    Percent = float(P_without_percent_sign)/100\n",
    "    return Percent\n",
    "    \n",
    "main()"
   ]
  }
 ],
 "metadata": {
  "kernelspec": {
   "display_name": "Python 3 (ipykernel)",
   "language": "python",
   "name": "python3"
  },
  "language_info": {
   "codemirror_mode": {
    "name": "ipython",
    "version": 3
   },
   "file_extension": ".py",
   "mimetype": "text/x-python",
   "name": "python",
   "nbconvert_exporter": "python",
   "pygments_lexer": "ipython3",
   "version": "3.9.13"
  }
 },
 "nbformat": 4,
 "nbformat_minor": 5
}
